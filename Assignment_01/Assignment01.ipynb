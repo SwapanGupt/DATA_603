{
 "cells": [
  {
   "cell_type": "code",
   "execution_count": 59,
   "id": "c9756904-2e87-4113-afc4-5a48d836a04d",
   "metadata": {},
   "outputs": [],
   "source": [
    "import pyarrow as pa"
   ]
  },
  {
   "cell_type": "code",
   "execution_count": 60,
   "id": "84cde7a4-ca09-4336-be1f-8d2a49eb4967",
   "metadata": {},
   "outputs": [],
   "source": [
    "hdfs = pa.hdfs.HadoopFileSystem(host=\"10.3.0.2\", port=8020)"
   ]
  },
  {
   "cell_type": "code",
   "execution_count": 61,
   "id": "60b4f79f-a981-4e7c-98e5-8a2133092cf0",
   "metadata": {},
   "outputs": [
    {
     "data": {
      "text/plain": [
       "['/user/swapanc1/homework1_images']"
      ]
     },
     "execution_count": 61,
     "metadata": {},
     "output_type": "execute_result"
    }
   ],
   "source": [
    "hdfs.ls('/user/swapanc1')"
   ]
  },
  {
   "cell_type": "markdown",
   "id": "0ea70753-8dfb-48ce-a525-d6edc61a9e19",
   "metadata": {},
   "source": [
    "## Downloading the Csv Files using HDFS."
   ]
  },
  {
   "cell_type": "code",
   "execution_count": 62,
   "id": "d9f4eae4-903f-44da-a009-95ca297435e8",
   "metadata": {},
   "outputs": [],
   "source": [
    "hdfs.download('/data/google_open_image/ids/test-images-with-rotation.csv', stream = 'test-images-with-rotation.csv', buffer_size=None)\n",
    "hdfs.download('/data/google_open_image/labels/test-annotations-human-imagelabels-boxable.csv', stream = 'test-annotations-human-imagelabels-boxable.csv', buffer_size=None)\n",
    "hdfs.download('/data/google_open_image/metadata/class-descriptions-boxable.csv', stream = 'class-descriptions-boxable.csv', buffer_size=None)"
   ]
  },
  {
   "cell_type": "markdown",
   "id": "bf3b2527-ed1f-4321-9036-f2e8abb3d655",
   "metadata": {},
   "source": [
    "## Step 2: Creating separate Dataframes for all the 3 CSV Files."
   ]
  },
  {
   "cell_type": "code",
   "execution_count": 63,
   "id": "8f721615-ed4c-43d3-a02c-81936e921fbe",
   "metadata": {},
   "outputs": [],
   "source": [
    "from pyarrow import csv\n",
    "import pandas as pd\n",
    "file1 = 'test-images-with-rotation.csv'\n",
    "file2='test-annotations-human-imagelabels-boxable(1).csv'\n",
    "file3='class-descriptions-boxable.csv'\n",
    "df1=pd.read_csv(file1)\n",
    "df2=pd.read_csv(file2)\n",
    "df3=pd.read_csv(file3)"
   ]
  },
  {
   "cell_type": "code",
   "execution_count": 64,
   "id": "6f7afdd2-8c63-4dea-a085-b8120215f0de",
   "metadata": {},
   "outputs": [
    {
     "data": {
      "text/html": [
       "<div>\n",
       "<style scoped>\n",
       "    .dataframe tbody tr th:only-of-type {\n",
       "        vertical-align: middle;\n",
       "    }\n",
       "\n",
       "    .dataframe tbody tr th {\n",
       "        vertical-align: top;\n",
       "    }\n",
       "\n",
       "    .dataframe thead th {\n",
       "        text-align: right;\n",
       "    }\n",
       "</style>\n",
       "<table border=\"1\" class=\"dataframe\">\n",
       "  <thead>\n",
       "    <tr style=\"text-align: right;\">\n",
       "      <th></th>\n",
       "      <th>ImageID</th>\n",
       "      <th>Subset</th>\n",
       "      <th>OriginalURL</th>\n",
       "      <th>OriginalLandingURL</th>\n",
       "      <th>License</th>\n",
       "      <th>AuthorProfileURL</th>\n",
       "      <th>Author</th>\n",
       "      <th>Title</th>\n",
       "      <th>OriginalSize</th>\n",
       "      <th>OriginalMD5</th>\n",
       "      <th>Thumbnail300KURL</th>\n",
       "      <th>Rotation</th>\n",
       "    </tr>\n",
       "  </thead>\n",
       "  <tbody>\n",
       "    <tr>\n",
       "      <th>0</th>\n",
       "      <td>848d938b566f5e9c</td>\n",
       "      <td>test</td>\n",
       "      <td>https://c5.staticflickr.com/1/125/321313101_ba...</td>\n",
       "      <td>https://www.flickr.com/photos/calliope/321313101</td>\n",
       "      <td>https://creativecommons.org/licenses/by/2.0/</td>\n",
       "      <td>https://www.flickr.com/people/calliope/</td>\n",
       "      <td>liz west</td>\n",
       "      <td>Tonka2</td>\n",
       "      <td>2968041</td>\n",
       "      <td>t8MQie4TFc6v4xFhzclUZA==</td>\n",
       "      <td>https://c4.staticflickr.com/1/125/321313101_ba...</td>\n",
       "      <td>0.0</td>\n",
       "    </tr>\n",
       "    <tr>\n",
       "      <th>1</th>\n",
       "      <td>dab3e432f1ee4ae4</td>\n",
       "      <td>test</td>\n",
       "      <td>https://farm5.staticflickr.com/8790/1723529903...</td>\n",
       "      <td>https://www.flickr.com/photos/92414546@N04/172...</td>\n",
       "      <td>https://creativecommons.org/licenses/by/2.0/</td>\n",
       "      <td>https://www.flickr.com/people/92414546@N04/</td>\n",
       "      <td>davejdoe</td>\n",
       "      <td>Goals</td>\n",
       "      <td>9146892</td>\n",
       "      <td>SE2ABMxpBmqDaq+dan13UA==</td>\n",
       "      <td>https://c1.staticflickr.com/9/8790/17235299036...</td>\n",
       "      <td>0.0</td>\n",
       "    </tr>\n",
       "  </tbody>\n",
       "</table>\n",
       "</div>"
      ],
      "text/plain": [
       "            ImageID Subset                                        OriginalURL  \\\n",
       "0  848d938b566f5e9c   test  https://c5.staticflickr.com/1/125/321313101_ba...   \n",
       "1  dab3e432f1ee4ae4   test  https://farm5.staticflickr.com/8790/1723529903...   \n",
       "\n",
       "                                  OriginalLandingURL  \\\n",
       "0   https://www.flickr.com/photos/calliope/321313101   \n",
       "1  https://www.flickr.com/photos/92414546@N04/172...   \n",
       "\n",
       "                                        License  \\\n",
       "0  https://creativecommons.org/licenses/by/2.0/   \n",
       "1  https://creativecommons.org/licenses/by/2.0/   \n",
       "\n",
       "                              AuthorProfileURL    Author   Title  \\\n",
       "0      https://www.flickr.com/people/calliope/  liz west  Tonka2   \n",
       "1  https://www.flickr.com/people/92414546@N04/  davejdoe   Goals   \n",
       "\n",
       "   OriginalSize               OriginalMD5  \\\n",
       "0       2968041  t8MQie4TFc6v4xFhzclUZA==   \n",
       "1       9146892  SE2ABMxpBmqDaq+dan13UA==   \n",
       "\n",
       "                                    Thumbnail300KURL  Rotation  \n",
       "0  https://c4.staticflickr.com/1/125/321313101_ba...       0.0  \n",
       "1  https://c1.staticflickr.com/9/8790/17235299036...       0.0  "
      ]
     },
     "execution_count": 64,
     "metadata": {},
     "output_type": "execute_result"
    }
   ],
   "source": [
    "df1.head(2)"
   ]
  },
  {
   "cell_type": "code",
   "execution_count": 65,
   "id": "16f89ecc-9978-485d-8307-9cad88d8134a",
   "metadata": {},
   "outputs": [
    {
     "data": {
      "text/plain": [
       "(125436, 12)"
      ]
     },
     "execution_count": 65,
     "metadata": {},
     "output_type": "execute_result"
    }
   ],
   "source": [
    "df1.shape"
   ]
  },
  {
   "cell_type": "code",
   "execution_count": 66,
   "id": "299f0ae1-aa97-4c35-9beb-c5c1420a7a16",
   "metadata": {},
   "outputs": [
    {
     "data": {
      "text/html": [
       "<div>\n",
       "<style scoped>\n",
       "    .dataframe tbody tr th:only-of-type {\n",
       "        vertical-align: middle;\n",
       "    }\n",
       "\n",
       "    .dataframe tbody tr th {\n",
       "        vertical-align: top;\n",
       "    }\n",
       "\n",
       "    .dataframe thead th {\n",
       "        text-align: right;\n",
       "    }\n",
       "</style>\n",
       "<table border=\"1\" class=\"dataframe\">\n",
       "  <thead>\n",
       "    <tr style=\"text-align: right;\">\n",
       "      <th></th>\n",
       "      <th>ImageID</th>\n",
       "      <th>Source</th>\n",
       "      <th>LabelName</th>\n",
       "      <th>Confidence</th>\n",
       "    </tr>\n",
       "  </thead>\n",
       "  <tbody>\n",
       "    <tr>\n",
       "      <th>0</th>\n",
       "      <td>000026e7ee790996</td>\n",
       "      <td>verification</td>\n",
       "      <td>/m/0cgh4</td>\n",
       "      <td>0</td>\n",
       "    </tr>\n",
       "    <tr>\n",
       "      <th>1</th>\n",
       "      <td>000026e7ee790996</td>\n",
       "      <td>verification</td>\n",
       "      <td>/m/04hgtk</td>\n",
       "      <td>0</td>\n",
       "    </tr>\n",
       "  </tbody>\n",
       "</table>\n",
       "</div>"
      ],
      "text/plain": [
       "            ImageID        Source  LabelName  Confidence\n",
       "0  000026e7ee790996  verification   /m/0cgh4           0\n",
       "1  000026e7ee790996  verification  /m/04hgtk           0"
      ]
     },
     "execution_count": 66,
     "metadata": {},
     "output_type": "execute_result"
    }
   ],
   "source": [
    "df2.head(2)"
   ]
  },
  {
   "cell_type": "code",
   "execution_count": 67,
   "id": "05440842-565d-4690-8baa-f511e5175857",
   "metadata": {},
   "outputs": [
    {
     "data": {
      "text/plain": [
       "(772776, 4)"
      ]
     },
     "execution_count": 67,
     "metadata": {},
     "output_type": "execute_result"
    }
   ],
   "source": [
    "df2.shape"
   ]
  },
  {
   "cell_type": "code",
   "execution_count": 68,
   "id": "1cafdb1b-806c-4c38-a8b1-6dfa47bb7e00",
   "metadata": {},
   "outputs": [
    {
     "data": {
      "text/html": [
       "<div>\n",
       "<style scoped>\n",
       "    .dataframe tbody tr th:only-of-type {\n",
       "        vertical-align: middle;\n",
       "    }\n",
       "\n",
       "    .dataframe tbody tr th {\n",
       "        vertical-align: top;\n",
       "    }\n",
       "\n",
       "    .dataframe thead th {\n",
       "        text-align: right;\n",
       "    }\n",
       "</style>\n",
       "<table border=\"1\" class=\"dataframe\">\n",
       "  <thead>\n",
       "    <tr style=\"text-align: right;\">\n",
       "      <th></th>\n",
       "      <th>/m/011k07</th>\n",
       "      <th>Tortoise</th>\n",
       "    </tr>\n",
       "  </thead>\n",
       "  <tbody>\n",
       "    <tr>\n",
       "      <th>0</th>\n",
       "      <td>/m/011q46kg</td>\n",
       "      <td>Container</td>\n",
       "    </tr>\n",
       "    <tr>\n",
       "      <th>1</th>\n",
       "      <td>/m/012074</td>\n",
       "      <td>Magpie</td>\n",
       "    </tr>\n",
       "  </tbody>\n",
       "</table>\n",
       "</div>"
      ],
      "text/plain": [
       "     /m/011k07   Tortoise\n",
       "0  /m/011q46kg  Container\n",
       "1    /m/012074     Magpie"
      ]
     },
     "execution_count": 68,
     "metadata": {},
     "output_type": "execute_result"
    }
   ],
   "source": [
    "df3.head(2)"
   ]
  },
  {
   "cell_type": "markdown",
   "id": "89cba0bf-bce6-4826-8cd5-88a6764f0b6a",
   "metadata": {},
   "source": [
    "## The 3rd CSV File contains No column Name, hence adding Column Names called Label and Item and the adding the deleted value back to the Data Frame."
   ]
  },
  {
   "cell_type": "code",
   "execution_count": 69,
   "id": "cea7dcc3-1d8e-4402-987b-29626fb3a262",
   "metadata": {},
   "outputs": [
    {
     "data": {
      "text/html": [
       "<div>\n",
       "<style scoped>\n",
       "    .dataframe tbody tr th:only-of-type {\n",
       "        vertical-align: middle;\n",
       "    }\n",
       "\n",
       "    .dataframe tbody tr th {\n",
       "        vertical-align: top;\n",
       "    }\n",
       "\n",
       "    .dataframe thead th {\n",
       "        text-align: right;\n",
       "    }\n",
       "</style>\n",
       "<table border=\"1\" class=\"dataframe\">\n",
       "  <thead>\n",
       "    <tr style=\"text-align: right;\">\n",
       "      <th></th>\n",
       "      <th>Label</th>\n",
       "      <th>Item</th>\n",
       "    </tr>\n",
       "  </thead>\n",
       "  <tbody>\n",
       "    <tr>\n",
       "      <th>0</th>\n",
       "      <td>/m/011q46kg</td>\n",
       "      <td>Container</td>\n",
       "    </tr>\n",
       "    <tr>\n",
       "      <th>1</th>\n",
       "      <td>/m/012074</td>\n",
       "      <td>Magpie</td>\n",
       "    </tr>\n",
       "  </tbody>\n",
       "</table>\n",
       "</div>"
      ],
      "text/plain": [
       "         Label       Item\n",
       "0  /m/011q46kg  Container\n",
       "1    /m/012074     Magpie"
      ]
     },
     "execution_count": 69,
     "metadata": {},
     "output_type": "execute_result"
    }
   ],
   "source": [
    "df3.columns =['Label', 'Item']\n",
    "df3.head(2)"
   ]
  },
  {
   "cell_type": "code",
   "execution_count": 70,
   "id": "42c10ed6-f402-439b-a851-6e4b45784723",
   "metadata": {},
   "outputs": [
    {
     "data": {
      "text/html": [
       "<div>\n",
       "<style scoped>\n",
       "    .dataframe tbody tr th:only-of-type {\n",
       "        vertical-align: middle;\n",
       "    }\n",
       "\n",
       "    .dataframe tbody tr th {\n",
       "        vertical-align: top;\n",
       "    }\n",
       "\n",
       "    .dataframe thead th {\n",
       "        text-align: right;\n",
       "    }\n",
       "</style>\n",
       "<table border=\"1\" class=\"dataframe\">\n",
       "  <thead>\n",
       "    <tr style=\"text-align: right;\">\n",
       "      <th></th>\n",
       "      <th>Label</th>\n",
       "      <th>Item</th>\n",
       "    </tr>\n",
       "  </thead>\n",
       "  <tbody>\n",
       "    <tr>\n",
       "      <th>599</th>\n",
       "      <td>/m/0zvk5</td>\n",
       "      <td>Helmet</td>\n",
       "    </tr>\n",
       "    <tr>\n",
       "      <th>0</th>\n",
       "      <td>/m/011k07</td>\n",
       "      <td>Tortoise</td>\n",
       "    </tr>\n",
       "  </tbody>\n",
       "</table>\n",
       "</div>"
      ],
      "text/plain": [
       "         Label      Item\n",
       "599   /m/0zvk5    Helmet\n",
       "0    /m/011k07  Tortoise"
      ]
     },
     "execution_count": 70,
     "metadata": {},
     "output_type": "execute_result"
    }
   ],
   "source": [
    "df3.loc['0',:]=['/m/011k07','Tortoise']  \n",
    "df3.tail(2)"
   ]
  },
  {
   "cell_type": "code",
   "execution_count": 71,
   "id": "95fc5f2e-51c7-4c31-8993-7f606c843b7e",
   "metadata": {},
   "outputs": [
    {
     "data": {
      "text/plain": [
       "(601, 2)"
      ]
     },
     "execution_count": 71,
     "metadata": {},
     "output_type": "execute_result"
    }
   ],
   "source": [
    "df3.shape"
   ]
  },
  {
   "cell_type": "markdown",
   "id": "e4782eea-7db6-4fde-a7f8-8ef6ea098b21",
   "metadata": {},
   "source": [
    "## Use the join command to join the three dataframes into a single dataframe. Ensure you don't have repeated lines in the resulting dataframe. File 3 can be joined with file 2 based on the Label field. (File 2 calls this LabelName, File 3 calls it Label) That dataframe can be joined with File 1 based on the Image ID field."
   ]
  },
  {
   "cell_type": "code",
   "execution_count": 72,
   "id": "2e806f8c-18c3-461d-9d07-b5ab50c7db1a",
   "metadata": {},
   "outputs": [
    {
     "data": {
      "text/html": [
       "<div>\n",
       "<style scoped>\n",
       "    .dataframe tbody tr th:only-of-type {\n",
       "        vertical-align: middle;\n",
       "    }\n",
       "\n",
       "    .dataframe tbody tr th {\n",
       "        vertical-align: top;\n",
       "    }\n",
       "\n",
       "    .dataframe thead th {\n",
       "        text-align: right;\n",
       "    }\n",
       "</style>\n",
       "<table border=\"1\" class=\"dataframe\">\n",
       "  <thead>\n",
       "    <tr style=\"text-align: right;\">\n",
       "      <th></th>\n",
       "      <th>ImageID</th>\n",
       "      <th>Source</th>\n",
       "      <th>LabelName</th>\n",
       "      <th>Confidence</th>\n",
       "      <th>Item</th>\n",
       "    </tr>\n",
       "  </thead>\n",
       "  <tbody>\n",
       "    <tr>\n",
       "      <th>0</th>\n",
       "      <td>000026e7ee790996</td>\n",
       "      <td>verification</td>\n",
       "      <td>/m/0cgh4</td>\n",
       "      <td>0</td>\n",
       "      <td>Building</td>\n",
       "    </tr>\n",
       "    <tr>\n",
       "      <th>1</th>\n",
       "      <td>000026e7ee790996</td>\n",
       "      <td>verification</td>\n",
       "      <td>/m/04hgtk</td>\n",
       "      <td>0</td>\n",
       "      <td>Human head</td>\n",
       "    </tr>\n",
       "    <tr>\n",
       "      <th>2</th>\n",
       "      <td>000026e7ee790996</td>\n",
       "      <td>verification</td>\n",
       "      <td>/m/0d5gx</td>\n",
       "      <td>0</td>\n",
       "      <td>Castle</td>\n",
       "    </tr>\n",
       "    <tr>\n",
       "      <th>3</th>\n",
       "      <td>000026e7ee790996</td>\n",
       "      <td>verification</td>\n",
       "      <td>/m/07j7r</td>\n",
       "      <td>1</td>\n",
       "      <td>Tree</td>\n",
       "    </tr>\n",
       "    <tr>\n",
       "      <th>4</th>\n",
       "      <td>000026e7ee790996</td>\n",
       "      <td>verification</td>\n",
       "      <td>/m/04rky</td>\n",
       "      <td>0</td>\n",
       "      <td>Mammal</td>\n",
       "    </tr>\n",
       "    <tr>\n",
       "      <th>5</th>\n",
       "      <td>000026e7ee790996</td>\n",
       "      <td>verification</td>\n",
       "      <td>/m/05s2s</td>\n",
       "      <td>1</td>\n",
       "      <td>Plant</td>\n",
       "    </tr>\n",
       "    <tr>\n",
       "      <th>6</th>\n",
       "      <td>000062a39995e348</td>\n",
       "      <td>verification</td>\n",
       "      <td>/m/05n4y</td>\n",
       "      <td>0</td>\n",
       "      <td>Ostrich</td>\n",
       "    </tr>\n",
       "    <tr>\n",
       "      <th>7</th>\n",
       "      <td>000062a39995e348</td>\n",
       "      <td>verification</td>\n",
       "      <td>/m/04rky</td>\n",
       "      <td>0</td>\n",
       "      <td>Mammal</td>\n",
       "    </tr>\n",
       "    <tr>\n",
       "      <th>8</th>\n",
       "      <td>000062a39995e348</td>\n",
       "      <td>verification</td>\n",
       "      <td>/m/07j7r</td>\n",
       "      <td>0</td>\n",
       "      <td>Tree</td>\n",
       "    </tr>\n",
       "    <tr>\n",
       "      <th>9</th>\n",
       "      <td>000062a39995e348</td>\n",
       "      <td>verification</td>\n",
       "      <td>/m/015p6</td>\n",
       "      <td>1</td>\n",
       "      <td>Bird</td>\n",
       "    </tr>\n",
       "    <tr>\n",
       "      <th>10</th>\n",
       "      <td>000062a39995e348</td>\n",
       "      <td>verification</td>\n",
       "      <td>/m/04hgtk</td>\n",
       "      <td>0</td>\n",
       "      <td>Human head</td>\n",
       "    </tr>\n",
       "    <tr>\n",
       "      <th>11</th>\n",
       "      <td>000062a39995e348</td>\n",
       "      <td>verification</td>\n",
       "      <td>/m/05s2s</td>\n",
       "      <td>1</td>\n",
       "      <td>Plant</td>\n",
       "    </tr>\n",
       "    <tr>\n",
       "      <th>12</th>\n",
       "      <td>0000c64e1253d68f</td>\n",
       "      <td>verification</td>\n",
       "      <td>/m/0k4j</td>\n",
       "      <td>1</td>\n",
       "      <td>Car</td>\n",
       "    </tr>\n",
       "    <tr>\n",
       "      <th>13</th>\n",
       "      <td>0000c64e1253d68f</td>\n",
       "      <td>verification</td>\n",
       "      <td>/m/07yv9</td>\n",
       "      <td>1</td>\n",
       "      <td>Vehicle</td>\n",
       "    </tr>\n",
       "    <tr>\n",
       "      <th>14</th>\n",
       "      <td>000132c20b84269b</td>\n",
       "      <td>verification</td>\n",
       "      <td>/m/03q69</td>\n",
       "      <td>1</td>\n",
       "      <td>Human hair</td>\n",
       "    </tr>\n",
       "  </tbody>\n",
       "</table>\n",
       "</div>"
      ],
      "text/plain": [
       "             ImageID        Source  LabelName  Confidence        Item\n",
       "0   000026e7ee790996  verification   /m/0cgh4           0    Building\n",
       "1   000026e7ee790996  verification  /m/04hgtk           0  Human head\n",
       "2   000026e7ee790996  verification   /m/0d5gx           0      Castle\n",
       "3   000026e7ee790996  verification   /m/07j7r           1        Tree\n",
       "4   000026e7ee790996  verification   /m/04rky           0      Mammal\n",
       "5   000026e7ee790996  verification   /m/05s2s           1       Plant\n",
       "6   000062a39995e348  verification   /m/05n4y           0     Ostrich\n",
       "7   000062a39995e348  verification   /m/04rky           0      Mammal\n",
       "8   000062a39995e348  verification   /m/07j7r           0        Tree\n",
       "9   000062a39995e348  verification   /m/015p6           1        Bird\n",
       "10  000062a39995e348  verification  /m/04hgtk           0  Human head\n",
       "11  000062a39995e348  verification   /m/05s2s           1       Plant\n",
       "12  0000c64e1253d68f  verification    /m/0k4j           1         Car\n",
       "13  0000c64e1253d68f  verification   /m/07yv9           1     Vehicle\n",
       "14  000132c20b84269b  verification   /m/03q69           1  Human hair"
      ]
     },
     "execution_count": 72,
     "metadata": {},
     "output_type": "execute_result"
    }
   ],
   "source": [
    "join_df = df2.join(df3.set_index('Label'), on='LabelName')\n",
    "join_df.head(15)"
   ]
  },
  {
   "cell_type": "code",
   "execution_count": 73,
   "id": "25dc457a-f63b-46d4-a0fc-c0f7dc5dc1ef",
   "metadata": {},
   "outputs": [
    {
     "data": {
      "text/plain": [
       "(772776, 5)"
      ]
     },
     "execution_count": 73,
     "metadata": {},
     "output_type": "execute_result"
    }
   ],
   "source": [
    "join_df.shape"
   ]
  },
  {
   "cell_type": "code",
   "execution_count": 74,
   "id": "09113b37-9722-4450-9138-5049755076c4",
   "metadata": {},
   "outputs": [
    {
     "data": {
      "text/html": [
       "<div>\n",
       "<style scoped>\n",
       "    .dataframe tbody tr th:only-of-type {\n",
       "        vertical-align: middle;\n",
       "    }\n",
       "\n",
       "    .dataframe tbody tr th {\n",
       "        vertical-align: top;\n",
       "    }\n",
       "\n",
       "    .dataframe thead th {\n",
       "        text-align: right;\n",
       "    }\n",
       "</style>\n",
       "<table border=\"1\" class=\"dataframe\">\n",
       "  <thead>\n",
       "    <tr style=\"text-align: right;\">\n",
       "      <th></th>\n",
       "      <th>ImageID</th>\n",
       "      <th>Source</th>\n",
       "      <th>LabelName</th>\n",
       "      <th>Confidence</th>\n",
       "      <th>Item</th>\n",
       "    </tr>\n",
       "  </thead>\n",
       "  <tbody>\n",
       "    <tr>\n",
       "      <th>772771</th>\n",
       "      <td>fffc6543b32da1dd</td>\n",
       "      <td>verification</td>\n",
       "      <td>/m/07yv9</td>\n",
       "      <td>0</td>\n",
       "      <td>Vehicle</td>\n",
       "    </tr>\n",
       "    <tr>\n",
       "      <th>772772</th>\n",
       "      <td>fffc6543b32da1dd</td>\n",
       "      <td>verification</td>\n",
       "      <td>/m/0cnyhnx</td>\n",
       "      <td>1</td>\n",
       "      <td>Bull</td>\n",
       "    </tr>\n",
       "    <tr>\n",
       "      <th>772773</th>\n",
       "      <td>fffc6543b32da1dd</td>\n",
       "      <td>verification</td>\n",
       "      <td>/m/0jbk</td>\n",
       "      <td>1</td>\n",
       "      <td>Animal</td>\n",
       "    </tr>\n",
       "    <tr>\n",
       "      <th>772774</th>\n",
       "      <td>fffcedcc4cce3c9f</td>\n",
       "      <td>verification</td>\n",
       "      <td>/m/09j2d</td>\n",
       "      <td>0</td>\n",
       "      <td>Clothing</td>\n",
       "    </tr>\n",
       "    <tr>\n",
       "      <th>772775</th>\n",
       "      <td>fffd0258c243bbea</td>\n",
       "      <td>verification</td>\n",
       "      <td>/m/01g317</td>\n",
       "      <td>1</td>\n",
       "      <td>Person</td>\n",
       "    </tr>\n",
       "  </tbody>\n",
       "</table>\n",
       "</div>"
      ],
      "text/plain": [
       "                 ImageID        Source   LabelName  Confidence      Item\n",
       "772771  fffc6543b32da1dd  verification    /m/07yv9           0   Vehicle\n",
       "772772  fffc6543b32da1dd  verification  /m/0cnyhnx           1      Bull\n",
       "772773  fffc6543b32da1dd  verification     /m/0jbk           1    Animal\n",
       "772774  fffcedcc4cce3c9f  verification    /m/09j2d           0  Clothing\n",
       "772775  fffd0258c243bbea  verification   /m/01g317           1    Person"
      ]
     },
     "execution_count": 74,
     "metadata": {},
     "output_type": "execute_result"
    }
   ],
   "source": [
    "join_df.tail()"
   ]
  },
  {
   "cell_type": "code",
   "execution_count": 75,
   "id": "1367c458-5a41-48be-a2fa-a18e2e2a29e7",
   "metadata": {},
   "outputs": [
    {
     "data": {
      "text/html": [
       "<div>\n",
       "<style scoped>\n",
       "    .dataframe tbody tr th:only-of-type {\n",
       "        vertical-align: middle;\n",
       "    }\n",
       "\n",
       "    .dataframe tbody tr th {\n",
       "        vertical-align: top;\n",
       "    }\n",
       "\n",
       "    .dataframe thead th {\n",
       "        text-align: right;\n",
       "    }\n",
       "</style>\n",
       "<table border=\"1\" class=\"dataframe\">\n",
       "  <thead>\n",
       "    <tr style=\"text-align: right;\">\n",
       "      <th></th>\n",
       "      <th>ImageID</th>\n",
       "      <th>Source</th>\n",
       "      <th>LabelName</th>\n",
       "      <th>Confidence</th>\n",
       "      <th>Item</th>\n",
       "      <th>Subset</th>\n",
       "      <th>OriginalURL</th>\n",
       "      <th>OriginalLandingURL</th>\n",
       "      <th>License</th>\n",
       "      <th>AuthorProfileURL</th>\n",
       "      <th>Author</th>\n",
       "      <th>Title</th>\n",
       "      <th>OriginalSize</th>\n",
       "      <th>OriginalMD5</th>\n",
       "      <th>Thumbnail300KURL</th>\n",
       "      <th>Rotation</th>\n",
       "    </tr>\n",
       "  </thead>\n",
       "  <tbody>\n",
       "    <tr>\n",
       "      <th>0</th>\n",
       "      <td>000026e7ee790996</td>\n",
       "      <td>verification</td>\n",
       "      <td>/m/0cgh4</td>\n",
       "      <td>0</td>\n",
       "      <td>Building</td>\n",
       "      <td>test</td>\n",
       "      <td>https://farm7.staticflickr.com/5769/2109480371...</td>\n",
       "      <td>https://www.flickr.com/photos/132646954@N02/21...</td>\n",
       "      <td>https://creativecommons.org/licenses/by/2.0/</td>\n",
       "      <td>https://www.flickr.com/people/132646954@N02/</td>\n",
       "      <td>dronepicr</td>\n",
       "      <td>Chichen Itza Mexico</td>\n",
       "      <td>7825604</td>\n",
       "      <td>EEGQ0ZQ/OxJAIGzfJ6LMvw==</td>\n",
       "      <td>https://c1.staticflickr.com/6/5769/21094803716...</td>\n",
       "      <td>0.0</td>\n",
       "    </tr>\n",
       "    <tr>\n",
       "      <th>1</th>\n",
       "      <td>000026e7ee790996</td>\n",
       "      <td>verification</td>\n",
       "      <td>/m/04hgtk</td>\n",
       "      <td>0</td>\n",
       "      <td>Human head</td>\n",
       "      <td>test</td>\n",
       "      <td>https://farm7.staticflickr.com/5769/2109480371...</td>\n",
       "      <td>https://www.flickr.com/photos/132646954@N02/21...</td>\n",
       "      <td>https://creativecommons.org/licenses/by/2.0/</td>\n",
       "      <td>https://www.flickr.com/people/132646954@N02/</td>\n",
       "      <td>dronepicr</td>\n",
       "      <td>Chichen Itza Mexico</td>\n",
       "      <td>7825604</td>\n",
       "      <td>EEGQ0ZQ/OxJAIGzfJ6LMvw==</td>\n",
       "      <td>https://c1.staticflickr.com/6/5769/21094803716...</td>\n",
       "      <td>0.0</td>\n",
       "    </tr>\n",
       "  </tbody>\n",
       "</table>\n",
       "</div>"
      ],
      "text/plain": [
       "            ImageID        Source  LabelName  Confidence        Item Subset  \\\n",
       "0  000026e7ee790996  verification   /m/0cgh4           0    Building   test   \n",
       "1  000026e7ee790996  verification  /m/04hgtk           0  Human head   test   \n",
       "\n",
       "                                         OriginalURL  \\\n",
       "0  https://farm7.staticflickr.com/5769/2109480371...   \n",
       "1  https://farm7.staticflickr.com/5769/2109480371...   \n",
       "\n",
       "                                  OriginalLandingURL  \\\n",
       "0  https://www.flickr.com/photos/132646954@N02/21...   \n",
       "1  https://www.flickr.com/photos/132646954@N02/21...   \n",
       "\n",
       "                                        License  \\\n",
       "0  https://creativecommons.org/licenses/by/2.0/   \n",
       "1  https://creativecommons.org/licenses/by/2.0/   \n",
       "\n",
       "                               AuthorProfileURL     Author  \\\n",
       "0  https://www.flickr.com/people/132646954@N02/  dronepicr   \n",
       "1  https://www.flickr.com/people/132646954@N02/  dronepicr   \n",
       "\n",
       "                 Title  OriginalSize               OriginalMD5  \\\n",
       "0  Chichen Itza Mexico       7825604  EEGQ0ZQ/OxJAIGzfJ6LMvw==   \n",
       "1  Chichen Itza Mexico       7825604  EEGQ0ZQ/OxJAIGzfJ6LMvw==   \n",
       "\n",
       "                                    Thumbnail300KURL  Rotation  \n",
       "0  https://c1.staticflickr.com/6/5769/21094803716...       0.0  \n",
       "1  https://c1.staticflickr.com/6/5769/21094803716...       0.0  "
      ]
     },
     "execution_count": 75,
     "metadata": {},
     "output_type": "execute_result"
    }
   ],
   "source": [
    "join_df2=join_df.join(df1.set_index('ImageID'), on='ImageID')\n",
    "join_df2.head(2)"
   ]
  },
  {
   "cell_type": "code",
   "execution_count": 76,
   "id": "5df93c8b-73d9-4e90-93bd-a148f52e3673",
   "metadata": {},
   "outputs": [
    {
     "data": {
      "text/plain": [
       "(772776, 16)"
      ]
     },
     "execution_count": 76,
     "metadata": {},
     "output_type": "execute_result"
    }
   ],
   "source": [
    "join_df2.shape"
   ]
  },
  {
   "cell_type": "code",
   "execution_count": 77,
   "id": "e2a1d0da-ff66-428f-8ee8-24925d05a02e",
   "metadata": {},
   "outputs": [
    {
     "data": {
      "text/plain": [
       "'https://farm7.staticflickr.com/5769/21094803716_da3cea21b8_o.jpg'"
      ]
     },
     "execution_count": 77,
     "metadata": {},
     "output_type": "execute_result"
    }
   ],
   "source": [
    "join_df2.iloc[0,6]"
   ]
  },
  {
   "cell_type": "code",
   "execution_count": 78,
   "id": "a5ce284b-fed6-4353-9f08-ff68c8f0348d",
   "metadata": {},
   "outputs": [
    {
     "data": {
      "text/html": [
       "<div>\n",
       "<style scoped>\n",
       "    .dataframe tbody tr th:only-of-type {\n",
       "        vertical-align: middle;\n",
       "    }\n",
       "\n",
       "    .dataframe tbody tr th {\n",
       "        vertical-align: top;\n",
       "    }\n",
       "\n",
       "    .dataframe thead th {\n",
       "        text-align: right;\n",
       "    }\n",
       "</style>\n",
       "<table border=\"1\" class=\"dataframe\">\n",
       "  <thead>\n",
       "    <tr style=\"text-align: right;\">\n",
       "      <th></th>\n",
       "      <th>ImageID</th>\n",
       "      <th>Source</th>\n",
       "      <th>LabelName</th>\n",
       "      <th>Confidence</th>\n",
       "      <th>Item</th>\n",
       "      <th>Subset</th>\n",
       "      <th>OriginalURL</th>\n",
       "      <th>OriginalLandingURL</th>\n",
       "      <th>License</th>\n",
       "      <th>AuthorProfileURL</th>\n",
       "      <th>Author</th>\n",
       "      <th>Title</th>\n",
       "      <th>OriginalSize</th>\n",
       "      <th>OriginalMD5</th>\n",
       "      <th>Thumbnail300KURL</th>\n",
       "      <th>Rotation</th>\n",
       "    </tr>\n",
       "  </thead>\n",
       "  <tbody>\n",
       "    <tr>\n",
       "      <th>0</th>\n",
       "      <td>000026e7ee790996</td>\n",
       "      <td>verification</td>\n",
       "      <td>/m/0cgh4</td>\n",
       "      <td>0</td>\n",
       "      <td>Building</td>\n",
       "      <td>test</td>\n",
       "      <td>https://farm7.staticflickr.com/5769/2109480371...</td>\n",
       "      <td>https://www.flickr.com/photos/132646954@N02/21...</td>\n",
       "      <td>https://creativecommons.org/licenses/by/2.0/</td>\n",
       "      <td>https://www.flickr.com/people/132646954@N02/</td>\n",
       "      <td>dronepicr</td>\n",
       "      <td>Chichen Itza Mexico</td>\n",
       "      <td>7825604</td>\n",
       "      <td>EEGQ0ZQ/OxJAIGzfJ6LMvw==</td>\n",
       "      <td>https://c1.staticflickr.com/6/5769/21094803716...</td>\n",
       "      <td>0.0</td>\n",
       "    </tr>\n",
       "    <tr>\n",
       "      <th>1</th>\n",
       "      <td>000026e7ee790996</td>\n",
       "      <td>verification</td>\n",
       "      <td>/m/04hgtk</td>\n",
       "      <td>0</td>\n",
       "      <td>Human head</td>\n",
       "      <td>test</td>\n",
       "      <td>https://farm7.staticflickr.com/5769/2109480371...</td>\n",
       "      <td>https://www.flickr.com/photos/132646954@N02/21...</td>\n",
       "      <td>https://creativecommons.org/licenses/by/2.0/</td>\n",
       "      <td>https://www.flickr.com/people/132646954@N02/</td>\n",
       "      <td>dronepicr</td>\n",
       "      <td>Chichen Itza Mexico</td>\n",
       "      <td>7825604</td>\n",
       "      <td>EEGQ0ZQ/OxJAIGzfJ6LMvw==</td>\n",
       "      <td>https://c1.staticflickr.com/6/5769/21094803716...</td>\n",
       "      <td>0.0</td>\n",
       "    </tr>\n",
       "    <tr>\n",
       "      <th>2</th>\n",
       "      <td>000026e7ee790996</td>\n",
       "      <td>verification</td>\n",
       "      <td>/m/0d5gx</td>\n",
       "      <td>0</td>\n",
       "      <td>Castle</td>\n",
       "      <td>test</td>\n",
       "      <td>https://farm7.staticflickr.com/5769/2109480371...</td>\n",
       "      <td>https://www.flickr.com/photos/132646954@N02/21...</td>\n",
       "      <td>https://creativecommons.org/licenses/by/2.0/</td>\n",
       "      <td>https://www.flickr.com/people/132646954@N02/</td>\n",
       "      <td>dronepicr</td>\n",
       "      <td>Chichen Itza Mexico</td>\n",
       "      <td>7825604</td>\n",
       "      <td>EEGQ0ZQ/OxJAIGzfJ6LMvw==</td>\n",
       "      <td>https://c1.staticflickr.com/6/5769/21094803716...</td>\n",
       "      <td>0.0</td>\n",
       "    </tr>\n",
       "    <tr>\n",
       "      <th>3</th>\n",
       "      <td>000026e7ee790996</td>\n",
       "      <td>verification</td>\n",
       "      <td>/m/07j7r</td>\n",
       "      <td>1</td>\n",
       "      <td>Tree</td>\n",
       "      <td>test</td>\n",
       "      <td>https://farm7.staticflickr.com/5769/2109480371...</td>\n",
       "      <td>https://www.flickr.com/photos/132646954@N02/21...</td>\n",
       "      <td>https://creativecommons.org/licenses/by/2.0/</td>\n",
       "      <td>https://www.flickr.com/people/132646954@N02/</td>\n",
       "      <td>dronepicr</td>\n",
       "      <td>Chichen Itza Mexico</td>\n",
       "      <td>7825604</td>\n",
       "      <td>EEGQ0ZQ/OxJAIGzfJ6LMvw==</td>\n",
       "      <td>https://c1.staticflickr.com/6/5769/21094803716...</td>\n",
       "      <td>0.0</td>\n",
       "    </tr>\n",
       "    <tr>\n",
       "      <th>4</th>\n",
       "      <td>000026e7ee790996</td>\n",
       "      <td>verification</td>\n",
       "      <td>/m/04rky</td>\n",
       "      <td>0</td>\n",
       "      <td>Mammal</td>\n",
       "      <td>test</td>\n",
       "      <td>https://farm7.staticflickr.com/5769/2109480371...</td>\n",
       "      <td>https://www.flickr.com/photos/132646954@N02/21...</td>\n",
       "      <td>https://creativecommons.org/licenses/by/2.0/</td>\n",
       "      <td>https://www.flickr.com/people/132646954@N02/</td>\n",
       "      <td>dronepicr</td>\n",
       "      <td>Chichen Itza Mexico</td>\n",
       "      <td>7825604</td>\n",
       "      <td>EEGQ0ZQ/OxJAIGzfJ6LMvw==</td>\n",
       "      <td>https://c1.staticflickr.com/6/5769/21094803716...</td>\n",
       "      <td>0.0</td>\n",
       "    </tr>\n",
       "  </tbody>\n",
       "</table>\n",
       "</div>"
      ],
      "text/plain": [
       "            ImageID        Source  LabelName  Confidence        Item Subset  \\\n",
       "0  000026e7ee790996  verification   /m/0cgh4           0    Building   test   \n",
       "1  000026e7ee790996  verification  /m/04hgtk           0  Human head   test   \n",
       "2  000026e7ee790996  verification   /m/0d5gx           0      Castle   test   \n",
       "3  000026e7ee790996  verification   /m/07j7r           1        Tree   test   \n",
       "4  000026e7ee790996  verification   /m/04rky           0      Mammal   test   \n",
       "\n",
       "                                         OriginalURL  \\\n",
       "0  https://farm7.staticflickr.com/5769/2109480371...   \n",
       "1  https://farm7.staticflickr.com/5769/2109480371...   \n",
       "2  https://farm7.staticflickr.com/5769/2109480371...   \n",
       "3  https://farm7.staticflickr.com/5769/2109480371...   \n",
       "4  https://farm7.staticflickr.com/5769/2109480371...   \n",
       "\n",
       "                                  OriginalLandingURL  \\\n",
       "0  https://www.flickr.com/photos/132646954@N02/21...   \n",
       "1  https://www.flickr.com/photos/132646954@N02/21...   \n",
       "2  https://www.flickr.com/photos/132646954@N02/21...   \n",
       "3  https://www.flickr.com/photos/132646954@N02/21...   \n",
       "4  https://www.flickr.com/photos/132646954@N02/21...   \n",
       "\n",
       "                                        License  \\\n",
       "0  https://creativecommons.org/licenses/by/2.0/   \n",
       "1  https://creativecommons.org/licenses/by/2.0/   \n",
       "2  https://creativecommons.org/licenses/by/2.0/   \n",
       "3  https://creativecommons.org/licenses/by/2.0/   \n",
       "4  https://creativecommons.org/licenses/by/2.0/   \n",
       "\n",
       "                               AuthorProfileURL     Author  \\\n",
       "0  https://www.flickr.com/people/132646954@N02/  dronepicr   \n",
       "1  https://www.flickr.com/people/132646954@N02/  dronepicr   \n",
       "2  https://www.flickr.com/people/132646954@N02/  dronepicr   \n",
       "3  https://www.flickr.com/people/132646954@N02/  dronepicr   \n",
       "4  https://www.flickr.com/people/132646954@N02/  dronepicr   \n",
       "\n",
       "                 Title  OriginalSize               OriginalMD5  \\\n",
       "0  Chichen Itza Mexico       7825604  EEGQ0ZQ/OxJAIGzfJ6LMvw==   \n",
       "1  Chichen Itza Mexico       7825604  EEGQ0ZQ/OxJAIGzfJ6LMvw==   \n",
       "2  Chichen Itza Mexico       7825604  EEGQ0ZQ/OxJAIGzfJ6LMvw==   \n",
       "3  Chichen Itza Mexico       7825604  EEGQ0ZQ/OxJAIGzfJ6LMvw==   \n",
       "4  Chichen Itza Mexico       7825604  EEGQ0ZQ/OxJAIGzfJ6LMvw==   \n",
       "\n",
       "                                    Thumbnail300KURL  Rotation  \n",
       "0  https://c1.staticflickr.com/6/5769/21094803716...       0.0  \n",
       "1  https://c1.staticflickr.com/6/5769/21094803716...       0.0  \n",
       "2  https://c1.staticflickr.com/6/5769/21094803716...       0.0  \n",
       "3  https://c1.staticflickr.com/6/5769/21094803716...       0.0  \n",
       "4  https://c1.staticflickr.com/6/5769/21094803716...       0.0  "
      ]
     },
     "execution_count": 78,
     "metadata": {},
     "output_type": "execute_result"
    }
   ],
   "source": [
    "join_df2.head()"
   ]
  },
  {
   "cell_type": "markdown",
   "id": "e7378fbe-b19d-45a1-9cd4-a6eaf626ab66",
   "metadata": {},
   "source": [
    "## Step 3: Download Images"
   ]
  },
  {
   "cell_type": "code",
   "execution_count": 79,
   "id": "0891415e-2c40-4527-9356-6ce88f122340",
   "metadata": {},
   "outputs": [],
   "source": [
    "import requests\n",
    "response = requests. get(join_df2.iloc[5,6])\n",
    "file = open(\"image.jpg\", \"wb\")\n",
    "file. write(response. content)\n",
    "file.close()"
   ]
  },
  {
   "cell_type": "code",
   "execution_count": 80,
   "id": "ded6c005-c292-4eba-8bd6-b70fd9ab6cce",
   "metadata": {},
   "outputs": [],
   "source": [
    "response = requests. get(join_df2.iloc[7,6])\n",
    "file = open(\"image1.jpg\", \"wb\")\n",
    "file. write(response. content)\n",
    "file.close()"
   ]
  },
  {
   "cell_type": "code",
   "execution_count": 81,
   "id": "526a074b-9bac-4db0-b9fb-82c2708f2542",
   "metadata": {},
   "outputs": [],
   "source": [
    "response = requests. get(join_df2.iloc[16,6])\n",
    "file = open(\"image2.jpg\", \"wb\")\n",
    "file. write(response. content)\n",
    "file.close()"
   ]
  },
  {
   "cell_type": "markdown",
   "id": "f8ef6884-3a13-4f1a-a400-a24aefa8eb98",
   "metadata": {},
   "source": [
    "## Creaing a New Directory using mkdir"
   ]
  },
  {
   "cell_type": "code",
   "execution_count": 82,
   "id": "b8e730c7-db7c-47e0-a26e-232a1ab13c83",
   "metadata": {},
   "outputs": [
    {
     "name": "stdout",
     "output_type": "stream",
     "text": [
      "mkdir: `/user/swapanc1/homework1_images': File exists\n"
     ]
    }
   ],
   "source": [
    "!hdfs dfs -mkdir /user/swapanc1/homework1_images"
   ]
  },
  {
   "cell_type": "markdown",
   "id": "a2187c0e-4298-4eb9-b927-2a3a0721438c",
   "metadata": {},
   "source": [
    "## Step 4: Uploading the downloaded Images to HDFS"
   ]
  },
  {
   "cell_type": "code",
   "execution_count": 83,
   "id": "676f9de6-df96-4692-ab84-8fd62e410297",
   "metadata": {},
   "outputs": [
    {
     "name": "stdout",
     "output_type": "stream",
     "text": [
      "copyFromLocal: `/user/swapanc1/homework1_images/image.jpg': File exists\n",
      "copyFromLocal: `/user/swapanc1/homework1_images/image1.jpg': File exists\n",
      "copyFromLocal: `/user/swapanc1/homework1_images/image2.jpg': File exists\n"
     ]
    }
   ],
   "source": [
    "!hadoop fs -copyFromLocal 'image.jpg' '/user/swapanc1/homework1_images'\n",
    "!hadoop fs -copyFromLocal 'image1.jpg' '/user/swapanc1/homework1_images'\n",
    "!hadoop fs -copyFromLocal 'image2.jpg' '/user/swapanc1/homework1_images'"
   ]
  },
  {
   "cell_type": "code",
   "execution_count": 84,
   "id": "493455ed-b153-48f4-8c2a-5d5739f12794",
   "metadata": {},
   "outputs": [
    {
     "data": {
      "text/plain": [
       "['/user/swapanc1/homework1_images/image.jpg',\n",
       " '/user/swapanc1/homework1_images/image1.jpg',\n",
       " '/user/swapanc1/homework1_images/image2.jpg']"
      ]
     },
     "execution_count": 84,
     "metadata": {},
     "output_type": "execute_result"
    }
   ],
   "source": [
    "hdfs.ls('/user/swapanc1/homework1_images') ## Checking the uploaded files in the directory."
   ]
  }
 ],
 "metadata": {
  "kernelspec": {
   "display_name": "Python 3",
   "language": "python",
   "name": "python3"
  },
  "language_info": {
   "codemirror_mode": {
    "name": "ipython",
    "version": 3
   },
   "file_extension": ".py",
   "mimetype": "text/x-python",
   "name": "python",
   "nbconvert_exporter": "python",
   "pygments_lexer": "ipython3",
   "version": "3.6.8"
  }
 },
 "nbformat": 4,
 "nbformat_minor": 5
}
