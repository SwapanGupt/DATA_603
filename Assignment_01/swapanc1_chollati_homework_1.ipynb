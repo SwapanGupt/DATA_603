{
 "cells": [
  {
   "cell_type": "code",
   "execution_count": 29,
   "id": "c9756904-2e87-4113-afc4-5a48d836a04d",
   "metadata": {},
   "outputs": [],
   "source": [
    "import pyarrow as pa"
   ]
  },
  {
   "cell_type": "code",
   "execution_count": 30,
   "id": "84cde7a4-ca09-4336-be1f-8d2a49eb4967",
   "metadata": {},
   "outputs": [],
   "source": [
    "hdfs = pa.hdfs.HadoopFileSystem(host=\"10.3.0.2\", port=8020)"
   ]
  },
  {
   "cell_type": "code",
   "execution_count": 31,
   "id": "60b4f79f-a981-4e7c-98e5-8a2133092cf0",
   "metadata": {},
   "outputs": [
    {
     "data": {
      "text/plain": [
       "['/user/swapanc1/homework1_images']"
      ]
     },
     "execution_count": 31,
     "metadata": {},
     "output_type": "execute_result"
    }
   ],
   "source": [
    "hdfs.ls('/user/swapanc1')"
   ]
  },
  {
   "cell_type": "markdown",
   "id": "0ea70753-8dfb-48ce-a525-d6edc61a9e19",
   "metadata": {},
   "source": [
    "## Downloading the Csv Files using HDFS."
   ]
  },
  {
   "cell_type": "code",
   "execution_count": 32,
   "id": "d9f4eae4-903f-44da-a009-95ca297435e8",
   "metadata": {},
   "outputs": [],
   "source": [
    "hdfs.download('/data/google_open_image/ids/test-images-with-rotation.csv', stream = 'test-images-with-rotation.csv', buffer_size=None)\n",
    "hdfs.download('/data/google_open_image/labels/test-annotations-human-imagelabels-boxable.csv', stream = 'test-annotations-human-imagelabels-boxable.csv', buffer_size=None)\n",
    "hdfs.download('/data/google_open_image/metadata/class-descriptions-boxable.csv', stream = 'class-descriptions-boxable.csv', buffer_size=None)"
   ]
  },
  {
   "cell_type": "markdown",
   "id": "bf3b2527-ed1f-4321-9036-f2e8abb3d655",
   "metadata": {},
   "source": [
    "## Step 2: Creating separate Dataframes for all the 3 CSV Files."
   ]
  },
  {
   "cell_type": "code",
   "execution_count": 33,
   "id": "8f721615-ed4c-43d3-a02c-81936e921fbe",
   "metadata": {},
   "outputs": [
    {
     "ename": "FileNotFoundError",
     "evalue": "File b'test-annotations-human-imagelabels-boxable1.csv' does not exist",
     "output_type": "error",
     "traceback": [
      "\u001b[0;31m---------------------------------------------------------------------------\u001b[0m",
      "\u001b[0;31mFileNotFoundError\u001b[0m                         Traceback (most recent call last)",
      "\u001b[0;32m<ipython-input-33-5935e8c47cba>\u001b[0m in \u001b[0;36m<module>\u001b[0;34m\u001b[0m\n\u001b[1;32m      5\u001b[0m \u001b[0mfile3\u001b[0m\u001b[0;34m=\u001b[0m\u001b[0;34m'class-descriptions-boxable.csv'\u001b[0m\u001b[0;34m\u001b[0m\u001b[0;34m\u001b[0m\u001b[0m\n\u001b[1;32m      6\u001b[0m \u001b[0mdf1\u001b[0m\u001b[0;34m=\u001b[0m\u001b[0mpd\u001b[0m\u001b[0;34m.\u001b[0m\u001b[0mread_csv\u001b[0m\u001b[0;34m(\u001b[0m\u001b[0mfile1\u001b[0m\u001b[0;34m)\u001b[0m\u001b[0;34m\u001b[0m\u001b[0;34m\u001b[0m\u001b[0m\n\u001b[0;32m----> 7\u001b[0;31m \u001b[0mdf2\u001b[0m\u001b[0;34m=\u001b[0m\u001b[0mpd\u001b[0m\u001b[0;34m.\u001b[0m\u001b[0mread_csv\u001b[0m\u001b[0;34m(\u001b[0m\u001b[0mfile2\u001b[0m\u001b[0;34m)\u001b[0m\u001b[0;34m\u001b[0m\u001b[0;34m\u001b[0m\u001b[0m\n\u001b[0m\u001b[1;32m      8\u001b[0m \u001b[0mdf3\u001b[0m\u001b[0;34m=\u001b[0m\u001b[0mpd\u001b[0m\u001b[0;34m.\u001b[0m\u001b[0mread_csv\u001b[0m\u001b[0;34m(\u001b[0m\u001b[0mfile3\u001b[0m\u001b[0;34m)\u001b[0m\u001b[0;34m\u001b[0m\u001b[0;34m\u001b[0m\u001b[0m\n",
      "\u001b[0;32m/scratch/data603_admin/venv/lib64/python3.6/site-packages/pandas/io/parsers.py\u001b[0m in \u001b[0;36mparser_f\u001b[0;34m(filepath_or_buffer, sep, delimiter, header, names, index_col, usecols, squeeze, prefix, mangle_dupe_cols, dtype, engine, converters, true_values, false_values, skipinitialspace, skiprows, nrows, na_values, keep_default_na, na_filter, verbose, skip_blank_lines, parse_dates, infer_datetime_format, keep_date_col, date_parser, dayfirst, iterator, chunksize, compression, thousands, decimal, lineterminator, quotechar, quoting, escapechar, comment, encoding, dialect, tupleize_cols, error_bad_lines, warn_bad_lines, skipfooter, doublequote, delim_whitespace, low_memory, memory_map, float_precision)\u001b[0m\n\u001b[1;32m    676\u001b[0m                     skip_blank_lines=skip_blank_lines)\n\u001b[1;32m    677\u001b[0m \u001b[0;34m\u001b[0m\u001b[0m\n\u001b[0;32m--> 678\u001b[0;31m         \u001b[0;32mreturn\u001b[0m \u001b[0m_read\u001b[0m\u001b[0;34m(\u001b[0m\u001b[0mfilepath_or_buffer\u001b[0m\u001b[0;34m,\u001b[0m \u001b[0mkwds\u001b[0m\u001b[0;34m)\u001b[0m\u001b[0;34m\u001b[0m\u001b[0;34m\u001b[0m\u001b[0m\n\u001b[0m\u001b[1;32m    679\u001b[0m \u001b[0;34m\u001b[0m\u001b[0m\n\u001b[1;32m    680\u001b[0m     \u001b[0mparser_f\u001b[0m\u001b[0;34m.\u001b[0m\u001b[0m__name__\u001b[0m \u001b[0;34m=\u001b[0m \u001b[0mname\u001b[0m\u001b[0;34m\u001b[0m\u001b[0;34m\u001b[0m\u001b[0m\n",
      "\u001b[0;32m/scratch/data603_admin/venv/lib64/python3.6/site-packages/pandas/io/parsers.py\u001b[0m in \u001b[0;36m_read\u001b[0;34m(filepath_or_buffer, kwds)\u001b[0m\n\u001b[1;32m    438\u001b[0m \u001b[0;34m\u001b[0m\u001b[0m\n\u001b[1;32m    439\u001b[0m     \u001b[0;31m# Create the parser.\u001b[0m\u001b[0;34m\u001b[0m\u001b[0;34m\u001b[0m\u001b[0;34m\u001b[0m\u001b[0m\n\u001b[0;32m--> 440\u001b[0;31m     \u001b[0mparser\u001b[0m \u001b[0;34m=\u001b[0m \u001b[0mTextFileReader\u001b[0m\u001b[0;34m(\u001b[0m\u001b[0mfilepath_or_buffer\u001b[0m\u001b[0;34m,\u001b[0m \u001b[0;34m**\u001b[0m\u001b[0mkwds\u001b[0m\u001b[0;34m)\u001b[0m\u001b[0;34m\u001b[0m\u001b[0;34m\u001b[0m\u001b[0m\n\u001b[0m\u001b[1;32m    441\u001b[0m \u001b[0;34m\u001b[0m\u001b[0m\n\u001b[1;32m    442\u001b[0m     \u001b[0;32mif\u001b[0m \u001b[0mchunksize\u001b[0m \u001b[0;32mor\u001b[0m \u001b[0miterator\u001b[0m\u001b[0;34m:\u001b[0m\u001b[0;34m\u001b[0m\u001b[0;34m\u001b[0m\u001b[0m\n",
      "\u001b[0;32m/scratch/data603_admin/venv/lib64/python3.6/site-packages/pandas/io/parsers.py\u001b[0m in \u001b[0;36m__init__\u001b[0;34m(self, f, engine, **kwds)\u001b[0m\n\u001b[1;32m    785\u001b[0m             \u001b[0mself\u001b[0m\u001b[0;34m.\u001b[0m\u001b[0moptions\u001b[0m\u001b[0;34m[\u001b[0m\u001b[0;34m'has_index_names'\u001b[0m\u001b[0;34m]\u001b[0m \u001b[0;34m=\u001b[0m \u001b[0mkwds\u001b[0m\u001b[0;34m[\u001b[0m\u001b[0;34m'has_index_names'\u001b[0m\u001b[0;34m]\u001b[0m\u001b[0;34m\u001b[0m\u001b[0;34m\u001b[0m\u001b[0m\n\u001b[1;32m    786\u001b[0m \u001b[0;34m\u001b[0m\u001b[0m\n\u001b[0;32m--> 787\u001b[0;31m         \u001b[0mself\u001b[0m\u001b[0;34m.\u001b[0m\u001b[0m_make_engine\u001b[0m\u001b[0;34m(\u001b[0m\u001b[0mself\u001b[0m\u001b[0;34m.\u001b[0m\u001b[0mengine\u001b[0m\u001b[0;34m)\u001b[0m\u001b[0;34m\u001b[0m\u001b[0;34m\u001b[0m\u001b[0m\n\u001b[0m\u001b[1;32m    788\u001b[0m \u001b[0;34m\u001b[0m\u001b[0m\n\u001b[1;32m    789\u001b[0m     \u001b[0;32mdef\u001b[0m \u001b[0mclose\u001b[0m\u001b[0;34m(\u001b[0m\u001b[0mself\u001b[0m\u001b[0;34m)\u001b[0m\u001b[0;34m:\u001b[0m\u001b[0;34m\u001b[0m\u001b[0;34m\u001b[0m\u001b[0m\n",
      "\u001b[0;32m/scratch/data603_admin/venv/lib64/python3.6/site-packages/pandas/io/parsers.py\u001b[0m in \u001b[0;36m_make_engine\u001b[0;34m(self, engine)\u001b[0m\n\u001b[1;32m   1012\u001b[0m     \u001b[0;32mdef\u001b[0m \u001b[0m_make_engine\u001b[0m\u001b[0;34m(\u001b[0m\u001b[0mself\u001b[0m\u001b[0;34m,\u001b[0m \u001b[0mengine\u001b[0m\u001b[0;34m=\u001b[0m\u001b[0;34m'c'\u001b[0m\u001b[0;34m)\u001b[0m\u001b[0;34m:\u001b[0m\u001b[0;34m\u001b[0m\u001b[0;34m\u001b[0m\u001b[0m\n\u001b[1;32m   1013\u001b[0m         \u001b[0;32mif\u001b[0m \u001b[0mengine\u001b[0m \u001b[0;34m==\u001b[0m \u001b[0;34m'c'\u001b[0m\u001b[0;34m:\u001b[0m\u001b[0;34m\u001b[0m\u001b[0;34m\u001b[0m\u001b[0m\n\u001b[0;32m-> 1014\u001b[0;31m             \u001b[0mself\u001b[0m\u001b[0;34m.\u001b[0m\u001b[0m_engine\u001b[0m \u001b[0;34m=\u001b[0m \u001b[0mCParserWrapper\u001b[0m\u001b[0;34m(\u001b[0m\u001b[0mself\u001b[0m\u001b[0;34m.\u001b[0m\u001b[0mf\u001b[0m\u001b[0;34m,\u001b[0m \u001b[0;34m**\u001b[0m\u001b[0mself\u001b[0m\u001b[0;34m.\u001b[0m\u001b[0moptions\u001b[0m\u001b[0;34m)\u001b[0m\u001b[0;34m\u001b[0m\u001b[0;34m\u001b[0m\u001b[0m\n\u001b[0m\u001b[1;32m   1015\u001b[0m         \u001b[0;32melse\u001b[0m\u001b[0;34m:\u001b[0m\u001b[0;34m\u001b[0m\u001b[0;34m\u001b[0m\u001b[0m\n\u001b[1;32m   1016\u001b[0m             \u001b[0;32mif\u001b[0m \u001b[0mengine\u001b[0m \u001b[0;34m==\u001b[0m \u001b[0;34m'python'\u001b[0m\u001b[0;34m:\u001b[0m\u001b[0;34m\u001b[0m\u001b[0;34m\u001b[0m\u001b[0m\n",
      "\u001b[0;32m/scratch/data603_admin/venv/lib64/python3.6/site-packages/pandas/io/parsers.py\u001b[0m in \u001b[0;36m__init__\u001b[0;34m(self, src, **kwds)\u001b[0m\n\u001b[1;32m   1706\u001b[0m         \u001b[0mkwds\u001b[0m\u001b[0;34m[\u001b[0m\u001b[0;34m'usecols'\u001b[0m\u001b[0;34m]\u001b[0m \u001b[0;34m=\u001b[0m \u001b[0mself\u001b[0m\u001b[0;34m.\u001b[0m\u001b[0musecols\u001b[0m\u001b[0;34m\u001b[0m\u001b[0;34m\u001b[0m\u001b[0m\n\u001b[1;32m   1707\u001b[0m \u001b[0;34m\u001b[0m\u001b[0m\n\u001b[0;32m-> 1708\u001b[0;31m         \u001b[0mself\u001b[0m\u001b[0;34m.\u001b[0m\u001b[0m_reader\u001b[0m \u001b[0;34m=\u001b[0m \u001b[0mparsers\u001b[0m\u001b[0;34m.\u001b[0m\u001b[0mTextReader\u001b[0m\u001b[0;34m(\u001b[0m\u001b[0msrc\u001b[0m\u001b[0;34m,\u001b[0m \u001b[0;34m**\u001b[0m\u001b[0mkwds\u001b[0m\u001b[0;34m)\u001b[0m\u001b[0;34m\u001b[0m\u001b[0;34m\u001b[0m\u001b[0m\n\u001b[0m\u001b[1;32m   1709\u001b[0m \u001b[0;34m\u001b[0m\u001b[0m\n\u001b[1;32m   1710\u001b[0m         \u001b[0mpassed_names\u001b[0m \u001b[0;34m=\u001b[0m \u001b[0mself\u001b[0m\u001b[0;34m.\u001b[0m\u001b[0mnames\u001b[0m \u001b[0;32mis\u001b[0m \u001b[0;32mNone\u001b[0m\u001b[0;34m\u001b[0m\u001b[0;34m\u001b[0m\u001b[0m\n",
      "\u001b[0;32mpandas/_libs/parsers.pyx\u001b[0m in \u001b[0;36mpandas._libs.parsers.TextReader.__cinit__\u001b[0;34m()\u001b[0m\n",
      "\u001b[0;32mpandas/_libs/parsers.pyx\u001b[0m in \u001b[0;36mpandas._libs.parsers.TextReader._setup_parser_source\u001b[0;34m()\u001b[0m\n",
      "\u001b[0;31mFileNotFoundError\u001b[0m: File b'test-annotations-human-imagelabels-boxable1.csv' does not exist"
     ]
    }
   ],
   "source": [
    "from pyarrow import csv\n",
    "import pandas as pd\n",
    "file1 = 'test-images-with-rotation.csv'\n",
    "file2='test-annotations-human-imagelabels-boxable.csv'\n",
    "file3='class-descriptions-boxable.csv'\n",
    "df1=pd.read_csv(file1)\n",
    "df2=pd.read_csv(file2)\n",
    "df3=pd.read_csv(file3)"
   ]
  },
  {
   "cell_type": "code",
   "execution_count": null,
   "id": "6f7afdd2-8c63-4dea-a085-b8120215f0de",
   "metadata": {},
   "outputs": [],
   "source": [
    "df1.head(2)"
   ]
  },
  {
   "cell_type": "code",
   "execution_count": null,
   "id": "16f89ecc-9978-485d-8307-9cad88d8134a",
   "metadata": {},
   "outputs": [],
   "source": [
    "df1.shape"
   ]
  },
  {
   "cell_type": "code",
   "execution_count": null,
   "id": "299f0ae1-aa97-4c35-9beb-c5c1420a7a16",
   "metadata": {},
   "outputs": [],
   "source": [
    "df2.head(2)"
   ]
  },
  {
   "cell_type": "code",
   "execution_count": null,
   "id": "05440842-565d-4690-8baa-f511e5175857",
   "metadata": {},
   "outputs": [],
   "source": [
    "df2.shape"
   ]
  },
  {
   "cell_type": "code",
   "execution_count": null,
   "id": "1cafdb1b-806c-4c38-a8b1-6dfa47bb7e00",
   "metadata": {},
   "outputs": [],
   "source": [
    "df3.head(2)"
   ]
  },
  {
   "cell_type": "markdown",
   "id": "89cba0bf-bce6-4826-8cd5-88a6764f0b6a",
   "metadata": {},
   "source": [
    "## The 3rd CSV File contains No column Name, hence adding Column Names called Label and Item and the adding the deleted value back to the Data Frame."
   ]
  },
  {
   "cell_type": "code",
   "execution_count": null,
   "id": "cea7dcc3-1d8e-4402-987b-29626fb3a262",
   "metadata": {},
   "outputs": [],
   "source": [
    "df3.columns =['Label', 'Item']\n",
    "df3.head(2)"
   ]
  },
  {
   "cell_type": "code",
   "execution_count": null,
   "id": "42c10ed6-f402-439b-a851-6e4b45784723",
   "metadata": {},
   "outputs": [],
   "source": [
    "df3.loc['0',:]=['/m/011k07','Tortoise']  \n",
    "df3.tail(2)"
   ]
  },
  {
   "cell_type": "code",
   "execution_count": null,
   "id": "95fc5f2e-51c7-4c31-8993-7f606c843b7e",
   "metadata": {},
   "outputs": [],
   "source": [
    "df3.shape"
   ]
  },
  {
   "cell_type": "markdown",
   "id": "e4782eea-7db6-4fde-a7f8-8ef6ea098b21",
   "metadata": {},
   "source": [
    "## Use the join command to join the three dataframes into a single dataframe. Ensure you don't have repeated lines in the resulting dataframe. File 3 can be joined with file 2 based on the Label field. (File 2 calls this LabelName, File 3 calls it Label) That dataframe can be joined with File 1 based on the Image ID field."
   ]
  },
  {
   "cell_type": "code",
   "execution_count": null,
   "id": "2e806f8c-18c3-461d-9d07-b5ab50c7db1a",
   "metadata": {},
   "outputs": [],
   "source": [
    "join_df = df2.join(df3.set_index('Label'), on='LabelName')\n",
    "join_df.head(15)"
   ]
  },
  {
   "cell_type": "code",
   "execution_count": null,
   "id": "25dc457a-f63b-46d4-a0fc-c0f7dc5dc1ef",
   "metadata": {},
   "outputs": [],
   "source": [
    "join_df.shape"
   ]
  },
  {
   "cell_type": "code",
   "execution_count": null,
   "id": "09113b37-9722-4450-9138-5049755076c4",
   "metadata": {},
   "outputs": [],
   "source": [
    "join_df.tail()"
   ]
  },
  {
   "cell_type": "code",
   "execution_count": null,
   "id": "1367c458-5a41-48be-a2fa-a18e2e2a29e7",
   "metadata": {},
   "outputs": [],
   "source": [
    "join_df2=join_df.join(df1.set_index('ImageID'), on='ImageID')\n",
    "join_df2.head(2)"
   ]
  },
  {
   "cell_type": "code",
   "execution_count": null,
   "id": "5df93c8b-73d9-4e90-93bd-a148f52e3673",
   "metadata": {},
   "outputs": [],
   "source": [
    "join_df2.shape"
   ]
  },
  {
   "cell_type": "code",
   "execution_count": null,
   "id": "e2a1d0da-ff66-428f-8ee8-24925d05a02e",
   "metadata": {},
   "outputs": [],
   "source": [
    "join_df2.iloc[0,6]"
   ]
  },
  {
   "cell_type": "code",
   "execution_count": null,
   "id": "a5ce284b-fed6-4353-9f08-ff68c8f0348d",
   "metadata": {},
   "outputs": [],
   "source": [
    "join_df2.head()"
   ]
  },
  {
   "cell_type": "markdown",
   "id": "e7378fbe-b19d-45a1-9cd4-a6eaf626ab66",
   "metadata": {},
   "source": [
    "## Step 3: Download Images"
   ]
  },
  {
   "cell_type": "code",
   "execution_count": null,
   "id": "0891415e-2c40-4527-9356-6ce88f122340",
   "metadata": {},
   "outputs": [],
   "source": [
    "import requests\n",
    "response = requests. get(join_df2.iloc[5,6])\n",
    "file = open(\"image.jpg\", \"wb\")\n",
    "file. write(response. content)\n",
    "file.close()"
   ]
  },
  {
   "cell_type": "code",
   "execution_count": null,
   "id": "ded6c005-c292-4eba-8bd6-b70fd9ab6cce",
   "metadata": {},
   "outputs": [],
   "source": [
    "response = requests. get(join_df2.iloc[7,6])\n",
    "file = open(\"image1.jpg\", \"wb\")\n",
    "file. write(response. content)\n",
    "file.close()"
   ]
  },
  {
   "cell_type": "code",
   "execution_count": null,
   "id": "526a074b-9bac-4db0-b9fb-82c2708f2542",
   "metadata": {},
   "outputs": [],
   "source": [
    "response = requests. get(join_df2.iloc[16,6])\n",
    "file = open(\"image2.jpg\", \"wb\")\n",
    "file. write(response. content)\n",
    "file.close()"
   ]
  },
  {
   "cell_type": "markdown",
   "id": "f8ef6884-3a13-4f1a-a400-a24aefa8eb98",
   "metadata": {},
   "source": [
    "## Creaing a New Directory using mkdir"
   ]
  },
  {
   "cell_type": "code",
   "execution_count": null,
   "id": "b8e730c7-db7c-47e0-a26e-232a1ab13c83",
   "metadata": {},
   "outputs": [],
   "source": [
    "!hdfs dfs -mkdir /user/swapanc1/homework1_images"
   ]
  },
  {
   "cell_type": "markdown",
   "id": "a2187c0e-4298-4eb9-b927-2a3a0721438c",
   "metadata": {},
   "source": [
    "## Step 4: Uploading the downloaded Images to HDFS"
   ]
  },
  {
   "cell_type": "code",
   "execution_count": null,
   "id": "676f9de6-df96-4692-ab84-8fd62e410297",
   "metadata": {},
   "outputs": [],
   "source": [
    "!hadoop fs -copyFromLocal 'image.jpg' '/user/swapanc1/homework1_images'\n",
    "!hadoop fs -copyFromLocal 'image1.jpg' '/user/swapanc1/homework1_images'\n",
    "!hadoop fs -copyFromLocal 'image2.jpg' '/user/swapanc1/homework1_images'"
   ]
  },
  {
   "cell_type": "code",
   "execution_count": null,
   "id": "493455ed-b153-48f4-8c2a-5d5739f12794",
   "metadata": {},
   "outputs": [],
   "source": [
    "hdfs.ls('/user/swapanc1/homework1_images') ## Checking the uploaded files in the directory."
   ]
  }
 ],
 "metadata": {
  "kernelspec": {
   "display_name": "Python 3",
   "language": "python",
   "name": "python3"
  },
  "language_info": {
   "codemirror_mode": {
    "name": "ipython",
    "version": 3
   },
   "file_extension": ".py",
   "mimetype": "text/x-python",
   "name": "python",
   "nbconvert_exporter": "python",
   "pygments_lexer": "ipython3",
   "version": "3.6.8"
  }
 },
 "nbformat": 4,
 "nbformat_minor": 5
}
